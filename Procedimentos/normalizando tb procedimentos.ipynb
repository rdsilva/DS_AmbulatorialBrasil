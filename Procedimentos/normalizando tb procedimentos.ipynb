{
 "cells": [
  {
   "cell_type": "markdown",
   "metadata": {},
   "source": [
    "## Normalização da Tabela de Procedimentos"
   ]
  },
  {
   "cell_type": "code",
   "execution_count": 1,
   "metadata": {},
   "outputs": [
    {
     "data": {
      "text/html": [
       "'/Users/rsilva/Documents/Estudos/Ambulatorial/Procedimentos'"
      ],
      "text/latex": [
       "'/Users/rsilva/Documents/Estudos/Ambulatorial/Procedimentos'"
      ],
      "text/markdown": [
       "'/Users/rsilva/Documents/Estudos/Ambulatorial/Procedimentos'"
      ],
      "text/plain": [
       "[1] \"/Users/rsilva/Documents/Estudos/Ambulatorial/Procedimentos\""
      ]
     },
     "metadata": {},
     "output_type": "display_data"
    }
   ],
   "source": [
    "getwd()"
   ]
  },
  {
   "cell_type": "code",
   "execution_count": 2,
   "metadata": {},
   "outputs": [],
   "source": [
    "path <- '/Users/rsilva/Documents/Estudos/Ambulatorial/Procedimentos'"
   ]
  },
  {
   "cell_type": "code",
   "execution_count": 27,
   "metadata": {},
   "outputs": [],
   "source": [
    "readTXT = function(file){\n",
    "    \n",
    "    result <- data.frame()\n",
    "    \n",
    "    con = file(file, \"r\", encoding=\"iso-8859-1\")\n",
    "    while ( TRUE ) {\n",
    "        line = readLines(con, n = 1)\n",
    "        if ( length(line) == 0 ) {\n",
    "            break\n",
    "        }\n",
    "        \n",
    "        CO_PROCEDIMENTO <- substr(line, 1, 10)\n",
    "        NO_PROCEDIMENTO <- substr(line, 11, 260)\n",
    "        TP_COMPLEXIDADE <- substr(line, 261, 261)\n",
    "        TP_SEXO <- substr(line, 262, 262)\n",
    "        QT_MAXIMA_EXECUCAO <- substr(line, 263, 266)\n",
    "        QT_DIAS_PERMANENCIA <- substr(line, 267, 270)\n",
    "        QT_PONTOS <- substr(line, 271, 274)\n",
    "        VL_IDADE_MINIMA <- substr(line, 275, 278)\n",
    "        VL_IDADE_MAXIMA <- substr(line, 279, 282)\n",
    "        VL_SH <- substr(line, 283, 292)\n",
    "        VL_SA <- substr(line, 293, 302)\n",
    "        VL_SP <- substr(line, 303, 312)\n",
    "        CO_FINANCIAMENTO <- substr(line, 313, 314)\n",
    "        CO_RUBRICA <- substr(line, 315, 320)\n",
    "        QT_TEMPO_PERMANENCIA <- substr(line, 321, 324)\n",
    "        DT_COMPETENCIA <- substr(line, 325, 330)\n",
    "        \n",
    "        result <- rbind(result, data.frame(CO_PROCEDIMENTO, NO_PROCEDIMENTO,TP_COMPLEXIDADE,TP_SEXO,QT_MAXIMA_EXECUCAO,QT_DIAS_PERMANENCIA,QT_PONTOS,VL_IDADE_MINIMA,VL_IDADE_MAXIMA,VL_SH,VL_SA,VL_SP,CO_FINANCIAMENTO,CO_RUBRICA,QT_TEMPO_PERMANENCIA,DT_COMPETENCIA))\n",
    "        \n",
    "    }\n",
    "\n",
    "    close(con)\n",
    "    return(result)\n",
    "}"
   ]
  },
  {
   "cell_type": "code",
   "execution_count": 8,
   "metadata": {},
   "outputs": [],
   "source": [
    "data <- read.table(\"tb_procedimento_layout.txt\", header=TRUE, sep=',')"
   ]
  },
  {
   "cell_type": "code",
   "execution_count": 32,
   "metadata": {},
   "outputs": [
    {
     "data": {
      "text/html": [
       "<table>\n",
       "<thead><tr><th scope=col>Coluna</th><th scope=col>Tamanho</th><th scope=col>Inicio</th><th scope=col>Fim</th><th scope=col>Tipo</th></tr></thead>\n",
       "<tbody>\n",
       "\t<tr><td>CO_PROCEDIMENTO     </td><td> 10                 </td><td>  1                 </td><td> 10                 </td><td>VARCHAR2            </td></tr>\n",
       "\t<tr><td>NO_PROCEDIMENTO     </td><td>250                 </td><td> 11                 </td><td>260                 </td><td>VARCHAR2            </td></tr>\n",
       "\t<tr><td>TP_COMPLEXIDADE     </td><td>  1                 </td><td>261                 </td><td>261                 </td><td>VARCHAR2            </td></tr>\n",
       "\t<tr><td>TP_SEXO             </td><td>  1                 </td><td>262                 </td><td>262                 </td><td>VARCHAR2            </td></tr>\n",
       "\t<tr><td>QT_MAXIMA_EXECUCAO  </td><td>  4                 </td><td>263                 </td><td>266                 </td><td>NUMBER              </td></tr>\n",
       "\t<tr><td>QT_DIAS_PERMANENCIA </td><td>  4                 </td><td>267                 </td><td>270                 </td><td>NUMBER              </td></tr>\n",
       "\t<tr><td>QT_PONTOS           </td><td>  4                 </td><td>271                 </td><td>274                 </td><td>NUMBER              </td></tr>\n",
       "\t<tr><td>VL_IDADE_MINIMA     </td><td>  4                 </td><td>275                 </td><td>278                 </td><td>NUMBER              </td></tr>\n",
       "\t<tr><td>VL_IDADE_MAXIMA     </td><td>  4                 </td><td>279                 </td><td>282                 </td><td>NUMBER              </td></tr>\n",
       "\t<tr><td>VL_SH               </td><td> 10                 </td><td>283                 </td><td>292                 </td><td>NUMBER              </td></tr>\n",
       "\t<tr><td>VL_SA               </td><td> 10                 </td><td>293                 </td><td>302                 </td><td>NUMBER              </td></tr>\n",
       "\t<tr><td>VL_SP               </td><td> 10                 </td><td>303                 </td><td>312                 </td><td>NUMBER              </td></tr>\n",
       "\t<tr><td>CO_FINANCIAMENTO    </td><td>  2                 </td><td>313                 </td><td>314                 </td><td>VARCHAR2            </td></tr>\n",
       "\t<tr><td>CO_RUBRICA          </td><td>  6                 </td><td>315                 </td><td>320                 </td><td>VARCHAR2            </td></tr>\n",
       "\t<tr><td>QT_TEMPO_PERMANENCIA</td><td>  4                 </td><td>321                 </td><td>324                 </td><td>NUMBER              </td></tr>\n",
       "\t<tr><td>DT_COMPETENCIA      </td><td>  6                 </td><td>325                 </td><td>330                 </td><td>CHAR                </td></tr>\n",
       "</tbody>\n",
       "</table>\n"
      ],
      "text/latex": [
       "\\begin{tabular}{r|lllll}\n",
       " Coluna & Tamanho & Inicio & Fim & Tipo\\\\\n",
       "\\hline\n",
       "\t CO\\_PROCEDIMENTO      &  10                    &   1                    &  10                    & VARCHAR2              \\\\\n",
       "\t NO\\_PROCEDIMENTO      & 250                    &  11                    & 260                    & VARCHAR2              \\\\\n",
       "\t TP\\_COMPLEXIDADE      &   1                    & 261                    & 261                    & VARCHAR2              \\\\\n",
       "\t TP\\_SEXO              &   1                    & 262                    & 262                    & VARCHAR2              \\\\\n",
       "\t QT\\_MAXIMA\\_EXECUCAO   &   4                      & 263                      & 266                      & NUMBER                  \\\\\n",
       "\t QT\\_DIAS\\_PERMANENCIA  &   4                      & 267                      & 270                      & NUMBER                  \\\\\n",
       "\t QT\\_PONTOS            &   4                    & 271                    & 274                    & NUMBER                \\\\\n",
       "\t VL\\_IDADE\\_MINIMA      &   4                      & 275                      & 278                      & NUMBER                  \\\\\n",
       "\t VL\\_IDADE\\_MAXIMA      &   4                      & 279                      & 282                      & NUMBER                  \\\\\n",
       "\t VL\\_SH                &  10                    & 283                    & 292                    & NUMBER                \\\\\n",
       "\t VL\\_SA                &  10                    & 293                    & 302                    & NUMBER                \\\\\n",
       "\t VL\\_SP                &  10                    & 303                    & 312                    & NUMBER                \\\\\n",
       "\t CO\\_FINANCIAMENTO     &   2                    & 313                    & 314                    & VARCHAR2              \\\\\n",
       "\t CO\\_RUBRICA           &   6                    & 315                    & 320                    & VARCHAR2              \\\\\n",
       "\t QT\\_TEMPO\\_PERMANENCIA &   4                      & 321                      & 324                      & NUMBER                  \\\\\n",
       "\t DT\\_COMPETENCIA       &   6                    & 325                    & 330                    & CHAR                  \\\\\n",
       "\\end{tabular}\n"
      ],
      "text/markdown": [
       "\n",
       "Coluna | Tamanho | Inicio | Fim | Tipo | \n",
       "|---|---|---|---|---|---|---|---|---|---|---|---|---|---|---|---|\n",
       "| CO_PROCEDIMENTO      |  10                  |   1                  |  10                  | VARCHAR2             | \n",
       "| NO_PROCEDIMENTO      | 250                  |  11                  | 260                  | VARCHAR2             | \n",
       "| TP_COMPLEXIDADE      |   1                  | 261                  | 261                  | VARCHAR2             | \n",
       "| TP_SEXO              |   1                  | 262                  | 262                  | VARCHAR2             | \n",
       "| QT_MAXIMA_EXECUCAO   |   4                  | 263                  | 266                  | NUMBER               | \n",
       "| QT_DIAS_PERMANENCIA  |   4                  | 267                  | 270                  | NUMBER               | \n",
       "| QT_PONTOS            |   4                  | 271                  | 274                  | NUMBER               | \n",
       "| VL_IDADE_MINIMA      |   4                  | 275                  | 278                  | NUMBER               | \n",
       "| VL_IDADE_MAXIMA      |   4                  | 279                  | 282                  | NUMBER               | \n",
       "| VL_SH                |  10                  | 283                  | 292                  | NUMBER               | \n",
       "| VL_SA                |  10                  | 293                  | 302                  | NUMBER               | \n",
       "| VL_SP                |  10                  | 303                  | 312                  | NUMBER               | \n",
       "| CO_FINANCIAMENTO     |   2                  | 313                  | 314                  | VARCHAR2             | \n",
       "| CO_RUBRICA           |   6                  | 315                  | 320                  | VARCHAR2             | \n",
       "| QT_TEMPO_PERMANENCIA |   4                  | 321                  | 324                  | NUMBER               | \n",
       "| DT_COMPETENCIA       |   6                  | 325                  | 330                  | CHAR                 | \n",
       "\n",
       "\n"
      ],
      "text/plain": [
       "   Coluna               Tamanho Inicio Fim Tipo    \n",
       "1  CO_PROCEDIMENTO       10       1     10 VARCHAR2\n",
       "2  NO_PROCEDIMENTO      250      11    260 VARCHAR2\n",
       "3  TP_COMPLEXIDADE        1     261    261 VARCHAR2\n",
       "4  TP_SEXO                1     262    262 VARCHAR2\n",
       "5  QT_MAXIMA_EXECUCAO     4     263    266 NUMBER  \n",
       "6  QT_DIAS_PERMANENCIA    4     267    270 NUMBER  \n",
       "7  QT_PONTOS              4     271    274 NUMBER  \n",
       "8  VL_IDADE_MINIMA        4     275    278 NUMBER  \n",
       "9  VL_IDADE_MAXIMA        4     279    282 NUMBER  \n",
       "10 VL_SH                 10     283    292 NUMBER  \n",
       "11 VL_SA                 10     293    302 NUMBER  \n",
       "12 VL_SP                 10     303    312 NUMBER  \n",
       "13 CO_FINANCIAMENTO       2     313    314 VARCHAR2\n",
       "14 CO_RUBRICA             6     315    320 VARCHAR2\n",
       "15 QT_TEMPO_PERMANENCIA   4     321    324 NUMBER  \n",
       "16 DT_COMPETENCIA         6     325    330 CHAR    "
      ]
     },
     "metadata": {},
     "output_type": "display_data"
    }
   ],
   "source": [
    "data"
   ]
  },
  {
   "cell_type": "code",
   "execution_count": null,
   "metadata": {},
   "outputs": [],
   "source": [
    "CO_PROCEDIMENTO, NO_PROCEDIMENTO,TP_COMPLEXIDADE,TP_SEXO,QT_MAXIMA_EXECUCAO,QT_DIAS_PERMANENCIA,QT_PONTOS,VL_IDADE_MINIMA,VL_IDADE_MAXIMA,VL_SH,VL_SA,VL_SP,CO_FINANCIAMENTO,CO_RUBRICA,QT_TEMPO_PERMANENCIA,DT_COMPETENCIA"
   ]
  },
  {
   "cell_type": "code",
   "execution_count": 28,
   "metadata": {},
   "outputs": [],
   "source": [
    "res <- readTXT(\"tb_procedimento.txt\")"
   ]
  },
  {
   "cell_type": "code",
   "execution_count": 29,
   "metadata": {},
   "outputs": [
    {
     "name": "stdout",
     "output_type": "stream",
     "text": [
      "'data.frame':\t4574 obs. of  16 variables:\n",
      " $ CO_PROCEDIMENTO     : Factor w/ 4574 levels \"0101010010\",\"0101010028\",..: 1 2 3 4 5 6 7 8 9 10 ...\n",
      " $ NO_PROCEDIMENTO     : Factor w/ 4569 levels \"ATIVIDADE EDUCATIVA / ORIENTAÇÃO EM GRUPO NA ATENÇÃO BÁSICA                                                    \"| __truncated__,..: 1 2 3 4 5 6 7 8 9 10 ...\n",
      " $ TP_COMPLEXIDADE     : Factor w/ 4 levels \"1\",\"2\",\"0\",\"3\": 1 2 1 1 1 1 1 1 1 1 ...\n",
      " $ TP_SEXO             : Factor w/ 4 levels \"N\",\"I\",\"F\",\"M\": 1 2 2 2 2 2 2 2 2 2 ...\n",
      " $ QT_MAXIMA_EXECUCAO  : Factor w/ 91 levels \"9999\",\"0001\",..: 1 1 1 1 1 1 1 1 1 1 ...\n",
      " $ QT_DIAS_PERMANENCIA : Factor w/ 23 levels \"9999\",\"0002\",..: 1 1 1 1 1 1 1 1 1 1 ...\n",
      " $ QT_PONTOS           : Factor w/ 68 levels \"0000\",\"0088\",..: 1 1 1 1 1 1 1 1 1 1 ...\n",
      " $ VL_IDADE_MINIMA     : Factor w/ 31 levels \"9999\",\"0084\",..: 1 2 3 4 2 5 6 6 6 6 ...\n",
      " $ VL_IDADE_MAXIMA     : Factor w/ 40 levels \"9999\",\"1571\",..: 1 2 2 2 2 2 2 2 2 2 ...\n",
      " $ VL_SH               : Factor w/ 1690 levels \"0000000000\",\"0000000220\",..: 1 1 1 1 1 1 1 1 1 1 ...\n",
      " $ VL_SA               : Factor w/ 909 levels \"0000000000\",\"0000000270\",..: 1 2 1 1 1 1 1 1 1 1 ...\n",
      " $ VL_SP               : Factor w/ 1167 levels \"0000000000\",\"0000007686\",..: 1 1 1 1 1 1 1 1 1 1 ...\n",
      " $ CO_FINANCIAMENTO    : Factor w/ 6 levels \"01\",\"06\",\"07\",..: 1 2 1 1 1 1 1 1 1 1 ...\n",
      " $ CO_RUBRICA          : Factor w/ 18 levels \"      \",\"040062\",..: 1 1 1 1 1 1 1 1 1 1 ...\n",
      " $ QT_TEMPO_PERMANENCIA: Factor w/ 3 levels \"9999\",\"0280\",..: 1 1 1 1 1 1 1 1 1 1 ...\n",
      " $ DT_COMPETENCIA      : Factor w/ 1 level \"201806\": 1 1 1 1 1 1 1 1 1 1 ...\n"
     ]
    }
   ],
   "source": [
    "str(res)"
   ]
  },
  {
   "cell_type": "code",
   "execution_count": 30,
   "metadata": {},
   "outputs": [],
   "source": [
    "write.csv2(res, \"procedimentos.csv\", row.names=FALSE)"
   ]
  },
  {
   "cell_type": "code",
   "execution_count": 31,
   "metadata": {},
   "outputs": [
    {
     "data": {
      "text/plain": [
       "   CO_PROCEDIMENTO\n",
       " 0101010010:   1  \n",
       " 0101010028:   1  \n",
       " 0101010036:   1  \n",
       " 0101020015:   1  \n",
       " 0101020023:   1  \n",
       " 0101020031:   1  \n",
       " (Other)   :4568  \n",
       "                                                                                                                                                                                                                                                   NO_PROCEDIMENTO\n",
       " TRATAMENTO CONSERVADOR DE TUMOR DO SISTEMA NERVOSO CENTRAL                                                                                                                                                                                                :   2  \n",
       " CORRECAO DE JANELA AORTO-PULMONAR                                                                                                                                                                                                                         :   2  \n",
       " ESTUDO ELETROFISIOLOGICO TERAPEUTICO II (ABLACAO DE TAQUICARDIA ATRIAL CICATRICIAL)                                                                                                                                                                       :   2  \n",
       " IMUNOGLOBULINA HUMANA 1,0 G INJETAVEL (POR FRASCO)                                                                                                                                                                                                        :   2  \n",
       " CABERGOLINA 0,5 MG (POR COMPRIMIDO)                                                                                                                                                                                                                       :   2  \n",
       " ATIVIDADE EDUCATIVA / ORIENTAÇÃO EM GRUPO NA ATENÇÃO BÁSICA                                                                                                                                                                                               :   1  \n",
       " (Other)                                                                                                                                                                                                                                                   :4563  \n",
       " TP_COMPLEXIDADE TP_SEXO  QT_MAXIMA_EXECUCAO QT_DIAS_PERMANENCIA   QT_PONTOS   \n",
       " 1: 125          N: 265   0001   :2224       9999   :2871        0000   :2808  \n",
       " 2:2287          I:4061   9999   :1273       0002   : 394        0250   : 214  \n",
       " 0: 635          F: 164   0002   : 504       0003   : 323        0150   : 175  \n",
       " 3:1527          M:  84   0004   :  52       0005   : 235        0300   : 172  \n",
       "                          0031   :  46       0004   : 207        0200   : 150  \n",
       "                          0003   :  44       0001   : 194        0050   : 121  \n",
       "                          (Other): 431       (Other): 350        (Other): 934  \n",
       " VL_IDADE_MINIMA VL_IDADE_MAXIMA        VL_SH             VL_SA     \n",
       " 0000   :3164    1571   :3697    0000000000:2112   0000000000:2660  \n",
       " 9999   : 556    9999   : 556    0000066600:  24   0000001000:  30  \n",
       " 0228   : 197    0731   :  56    0000027177:  22   0000001716:  27  \n",
       " 0144   : 142    0227   :  55    0000002420:  14   0000000351:  25  \n",
       " 0216   :  92    1091   :  34    0000026875:  13   0000000273:  25  \n",
       " 0120   :  62    0911   :  22    0000000635:  12   0000000368:  20  \n",
       " (Other): 361    (Other): 154    (Other)   :2377   (Other)   :1787  \n",
       "        VL_SP      CO_FINANCIAMENTO   CO_RUBRICA   QT_TEMPO_PERMANENCIA\n",
       " 0000000000:2765   01: 121                 :4233   9999:4571           \n",
       " 0000039936:  22   06:3684          040032 : 135   0280:   1           \n",
       " 0000336537:  18   07: 134          040049 :  49   0180:   2           \n",
       " 0000058724:  18   05:  19          040067 :  34                       \n",
       " 0000061100:  17   04: 341          040017 :  31                       \n",
       " 0000047000:  14   02: 275          040033 :  22                       \n",
       " (Other)   :1720                    (Other):  70                       \n",
       " DT_COMPETENCIA\n",
       " 201806:4574   \n",
       "               \n",
       "               \n",
       "               \n",
       "               \n",
       "               \n",
       "               "
      ]
     },
     "metadata": {},
     "output_type": "display_data"
    }
   ],
   "source": [
    "summary(res)"
   ]
  },
  {
   "cell_type": "code",
   "execution_count": 36,
   "metadata": {},
   "outputs": [],
   "source": [
    "# apenas procedimento e codigo\n",
    "\n",
    "reduced <- subset(res, select=c(\"CO_PROCEDIMENTO\", \"NO_PROCEDIMENTO\"))\n",
    "reduced <- droplevels(reduced)"
   ]
  },
  {
   "cell_type": "code",
   "execution_count": 37,
   "metadata": {},
   "outputs": [
    {
     "name": "stdout",
     "output_type": "stream",
     "text": [
      "'data.frame':\t4574 obs. of  2 variables:\n",
      " $ CO_PROCEDIMENTO: Factor w/ 4574 levels \"0101010010\",\"0101010028\",..: 1 2 3 4 5 6 7 8 9 10 ...\n",
      " $ NO_PROCEDIMENTO: Factor w/ 4569 levels \"ATIVIDADE EDUCATIVA / ORIENTAÇÃO EM GRUPO NA ATENÇÃO BÁSICA                                                    \"| __truncated__,..: 1 2 3 4 5 6 7 8 9 10 ...\n"
     ]
    }
   ],
   "source": [
    "str(reduced)"
   ]
  },
  {
   "cell_type": "code",
   "execution_count": 38,
   "metadata": {},
   "outputs": [],
   "source": [
    "write.csv2(reduced, \"so_procedimentos.csv\", row.names=FALSE)"
   ]
  },
  {
   "cell_type": "code",
   "execution_count": null,
   "metadata": {},
   "outputs": [],
   "source": []
  }
 ],
 "metadata": {
  "kernelspec": {
   "display_name": "R",
   "language": "R",
   "name": "ir"
  },
  "language_info": {
   "codemirror_mode": "r",
   "file_extension": ".r",
   "mimetype": "text/x-r-source",
   "name": "R",
   "pygments_lexer": "r",
   "version": "3.4.2"
  }
 },
 "nbformat": 4,
 "nbformat_minor": 2
}
